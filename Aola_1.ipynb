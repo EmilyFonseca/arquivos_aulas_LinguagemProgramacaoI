{
  "nbformat": 4,
  "nbformat_minor": 0,
  "metadata": {
    "colab": {
      "provenance": [],
      "collapsed_sections": [
        "Omxv7F1pq_dj",
        "rGr4U08TsBxh",
        "NWruOFZmsgmo",
        "Vs1Ql1BSwQAk",
        "xpkKmoGowd_j",
        "nzg5ErPRC_Bf",
        "fIKag4j6DSGM",
        "tMdD5HyQEbJO",
        "15vBO3DkWXWG",
        "inMLmieSWeBO",
        "KrJytJK3Wq6x",
        "KseIO8QVW_Fm",
        "BllRe1hzXIsG"
      ],
      "mount_file_id": "1jH-8WX8u-dBcserahnjA-y-OaPrg0J-4",
      "authorship_tag": "ABX9TyOsRPNlmk5m8wYnEFYjfA7z",
      "include_colab_link": true
    },
    "kernelspec": {
      "name": "python3",
      "display_name": "Python 3"
    },
    "language_info": {
      "name": "python"
    }
  },
  "cells": [
    {
      "cell_type": "markdown",
      "metadata": {
        "id": "view-in-github",
        "colab_type": "text"
      },
      "source": [
        "<a href=\"https://colab.research.google.com/github/EmilyFonseca/arquivos_aulas_LinguagemProgramacaoI/blob/main/Aola_1.ipynb\" target=\"_parent\"><img src=\"https://colab.research.google.com/assets/colab-badge.svg\" alt=\"Open In Colab\"/></a>"
      ]
    },
    {
      "cell_type": "markdown",
      "source": [
        "#Exercício 1 - Um bom programa Inicial"
      ],
      "metadata": {
        "id": "IHTDyklmqhqL"
      }
    },
    {
      "cell_type": "code",
      "source": [
        "print(\"Hello World!\")\n",
        "print(\"Hello Again\")\n",
        "print(\"I like typing this.\")\n",
        "print(\"This is fun.\")\n",
        "print('Yay! Printing.')\n",
        "print(\"I'd much rather you 'not'.\")\n",
        "print('I \"said\" do not touch this.')"
      ],
      "metadata": {
        "id": "s8suHgUvYeJl",
        "colab": {
          "base_uri": "https://localhost:8080/"
        },
        "outputId": "a884b2e0-6e00-4dac-b6be-2fc49e621c32"
      },
      "execution_count": null,
      "outputs": [
        {
          "output_type": "stream",
          "name": "stdout",
          "text": [
            "Hello World!\n",
            "Hello Again\n",
            "I like typing this.\n",
            "This is fun.\n",
            "Yay! Printing.\n",
            "I'd much rather you 'not'.\n",
            "I \"said\" do not touch this.\n"
          ]
        }
      ]
    },
    {
      "cell_type": "markdown",
      "source": [
        "# Exercicio 2 - Comentários e Cerquilhas"
      ],
      "metadata": {
        "id": "7RskPx30Yiwm"
      }
    },
    {
      "cell_type": "code",
      "source": [
        "#Um comentário assim você pode ler mais tarde\n",
        "print(\"I could have code like this.\") #e o comentário assim\n",
        "#print(\"This won't run.\")\n",
        "print(\"This will run.\")"
      ],
      "metadata": {
        "id": "B4iGMFppZF--",
        "colab": {
          "base_uri": "https://localhost:8080/"
        },
        "outputId": "3c442a6c-0cde-4b57-ce27-eb7e7870c0bf"
      },
      "execution_count": null,
      "outputs": [
        {
          "output_type": "stream",
          "name": "stdout",
          "text": [
            "I could have code like this.\n",
            "This will run.\n"
          ]
        }
      ]
    },
    {
      "cell_type": "markdown",
      "source": [
        "# Exercício 3 - Números e Matemática"
      ],
      "metadata": {
        "id": "w-zgmn2pZQJ_"
      }
    },
    {
      "cell_type": "code",
      "source": [
        "print(\"I will now count my chickens:\")\n",
        "print(\"Hens\", 25 + 30 / 6)#Calculo dentro do print\n",
        "print(\"Roosters\", 100 - 25 * 3 % 4)\n",
        "print(\"Now I will count the eggs:\")\n",
        "print(3 + 2 + 1 - 5 + 4 % 2 - 1 / 4 + 6)\n",
        "print(\"Is it true that 3 + 2 < 5 - 7?\")\n",
        "print(3 + 2 < 5 - 7)\n",
        "print(\"What is 3 + 2?\", 3 + 2)\n",
        "print(\"What is 5 - 7?\", 5 - 7)\n",
        "print(\"Oh, that's why it's False.\")\n",
        "print(\"How about some more.\")\n",
        "\n",
        "print(\"Is it greater?\", 5 > -2)\n",
        "print(\"Is it greater or equal?\", 5 >= -2)#operador de comparação retorna verdadeiro ou falso\n",
        "print(\"Is it less or equal?\", 5 <= -2)"
      ],
      "metadata": {
        "id": "0qvi9qGkZXTt",
        "colab": {
          "base_uri": "https://localhost:8080/"
        },
        "outputId": "bf78e7f6-7185-4ff0-8e6a-e52deddf3502"
      },
      "execution_count": null,
      "outputs": [
        {
          "output_type": "stream",
          "name": "stdout",
          "text": [
            "I will now count my chickens:\n",
            "Hens 30.0\n",
            "Roosters 97\n",
            "Now I will count the eggs:\n",
            "6.75\n",
            "Is it true that 3 + 2 < 5 - 7?\n",
            "False\n",
            "What is 3 + 2? 5\n",
            "What is 5 - 7? -2\n",
            "Oh, that's why it's False.\n",
            "How about some more.\n",
            "Is it greater? True\n",
            "Is it greater or equal? True\n",
            "Is it less or equal? False\n"
          ]
        }
      ]
    },
    {
      "cell_type": "markdown",
      "source": [
        "# Exercício 4 - Variáveis e nomes"
      ],
      "metadata": {
        "id": "-0cjJyzhZjc4"
      }
    },
    {
      "cell_type": "code",
      "source": [
        "cars = 100 #atribuindo um número inteiro\n",
        "spaceInACar = 4.0 #atribuindo um número real\n",
        "drivers = 30 #atribuindo um número inteiro\n",
        "passengers = 90 #atribuindo um número inteiro\n",
        "carsNotDriven = cars - drivers #operação aritmética entre inteiro e inteiro\n",
        "carsDriven = drivers #atribuição de valor entre variáveis sem operação\n",
        "carpoolCapacity = carsDriven * spaceInACar #atribuindo o restultado de uma operação aritmética entre inteiro e real\n",
        "averagePassengersPerCar = passengers / carsDriven # atribuindo o resultado de uma operação aritmética entre inteiro e inteiro\n",
        "\n",
        "print(\"There are \", cars, \" cars availabe.\")\n",
        "print(\"There are only \", drivers, \" drivers available.\")\n",
        "print(\"There will be \", carsNotDriven, \" empty cars today.\")\n",
        "print(\"We can transport \", carpoolCapacity, \" people today.\")\n",
        "print(\"We have \", passengers, \" to carpool today.\")\n",
        "print(\"We need to put about\", averagePassengersPerCar, \" in each car.\")\n",
        "print(10/5)"
      ],
      "metadata": {
        "id": "D_Vo0Rz-Zp2l"
      },
      "execution_count": null,
      "outputs": []
    },
    {
      "cell_type": "markdown",
      "source": [
        "#Exercício 5 - Mais variáveis e impressão\n",
        "Concatenação de variáveis mais exto, uma forma de usar a saida de dados com variáveis;"
      ],
      "metadata": {
        "id": "bRC0u7YoBnhs"
      }
    },
    {
      "cell_type": "code",
      "execution_count": null,
      "metadata": {
        "id": "Cw8RQcpQc4Oe",
        "colab": {
          "base_uri": "https://localhost:8080/"
        },
        "outputId": "71f6c5cd-c5ed-4cd3-efe6-ab9ca8e5620a"
      },
      "outputs": [
        {
          "output_type": "stream",
          "name": "stdout",
          "text": [
            "Let's talk about Zed A Shaw.\n",
            "He's 74 inches tall.\n",
            "He's 180 pounds heavy.\n",
            "Actually that's not too heavy.\n",
            "He's got Blue eyes and Brown hair.\n",
            "His teeth are usually White depending on the coffee.\n",
            "If I add 32, 74, and 180 I get 286.\n"
          ]
        }
      ],
      "source": [
        "Name = 'Zed A Shaw'\n",
        "Age = 32\n",
        "Height = 74\n",
        "Weight = 180\n",
        "Eyes = 'Blue'\n",
        "Teeth = 'White'\n",
        "Hair = 'Brown'\n",
        "print(f\"Let's talk about {Name}.\") #O uso de f'{} torna a concatenação de variável e texto mais rápida\n",
        "print(f\"He's {Height} inches tall.\")\n",
        "print(f\"He's {Weight} pounds heavy.\")\n",
        "print(\"Actually that's not too heavy.\")\n",
        "print(f\"He's got {Eyes} eyes and {Hair} hair.\")\n",
        "print(f\"His teeth are usually {Teeth} depending on the coffee.\")\n",
        "total = Age + Height + Weight\n",
        "print(f\"If I add {Age}, {Height}, and {Weight} I get {total}.\")"
      ]
    },
    {
      "cell_type": "markdown",
      "source": [
        "#"
      ],
      "metadata": {
        "id": "yCVmeNJAliiA"
      }
    },
    {
      "cell_type": "markdown",
      "source": [
        "#Exercício 6 - Strings e texto\n",
        "Algumas variáveis, um pouco complexas um pouco de trabalho com Strings dentro de Strings"
      ],
      "metadata": {
        "id": "-Rzi63TYmUk_"
      }
    },
    {
      "cell_type": "code",
      "source": [
        "type_of_people = 10\n",
        "x =  f\"There are {type_of_people} types of people.\"#concatena a variável com texto\n",
        "binary = \"binary\"\n",
        "do_not = \"don't\"\n",
        "y = f\"Those who know {binary} and those who {do_not}.\"\n",
        "print(x)\n",
        "print(y)\n",
        "print(f\"I said: {x}\")\n",
        "print(f\"I also said: '{y}'\")\n",
        "hilarious = False\n",
        "joke_evaluation = \"Isn't that joke so funny?! {}\"\n",
        "print(joke_evaluation.format(hilarious)) #format está substituindo o {} por false (hilarious)\n",
        "w = \"This is the left side of...\"\n",
        "e = \"a string with a right side.\"\n",
        "print(w + e)#soma de strings\n"
      ],
      "metadata": {
        "id": "jA9G_O80mUTH",
        "colab": {
          "base_uri": "https://localhost:8080/"
        },
        "outputId": "ab791fe2-a0e2-4bf2-f867-798cef6a90a8"
      },
      "execution_count": null,
      "outputs": [
        {
          "output_type": "stream",
          "name": "stdout",
          "text": [
            "There are 10 types of people.\n",
            "Those who know binary and those who don't.\n",
            "I said: There are 10 types of people.\n",
            "I also said: 'Those who know binary and those who don't.'\n",
            "Isn't that joke so funny?! False\n",
            "This is the left side of...a string with a right side.\n"
          ]
        }
      ]
    },
    {
      "cell_type": "markdown",
      "source": [
        "# Exercício 7 - Mais impressão Apenas para praticar a digitação e alguns conceitos sobre impressão de strings"
      ],
      "metadata": {
        "id": "DGvAo1EvYIim"
      }
    },
    {
      "cell_type": "code",
      "source": [
        "print(\"Mary had a little lamb.\")\n",
        "print(\"Its fleece was white as {}.\".format('snow'))\n",
        "print(\"And everywhere that Mary went.\")\n",
        "print(\".\"*10)#10 pontos\n",
        "\n",
        "end1=\"C\"\n",
        "end2=\"h\"\n",
        "end3=\"e\"\n",
        "end4=\"e\"\n",
        "end5=\"s\"\n",
        "end6=\"e\"\n",
        "end7=\"B\"\n",
        "end8=\"u\"\n",
        "end9=\"r\"\n",
        "end10=\"g\"\n",
        "end11=\"e\"\n",
        "end12=\"r\"\n",
        "\n",
        "print(end1 + end2 + end3 + end4 + end5 + end6, end=' ')#' ' para somar até o espaço\n",
        "print(end7 + end8 + end9 + end10 + end11 + end12)"
      ],
      "metadata": {
        "id": "ELMEbr2bpHDL",
        "colab": {
          "base_uri": "https://localhost:8080/"
        },
        "outputId": "bfadb1f6-7ebd-4687-938e-d6c708a9cbd8"
      },
      "execution_count": null,
      "outputs": [
        {
          "output_type": "stream",
          "name": "stdout",
          "text": [
            "Mary had a little lamb.\n",
            "Its fleece was white as snow.\n",
            "And everywhere that Mary went.\n",
            "..........\n",
            "Cheese Burger\n"
          ]
        }
      ]
    },
    {
      "cell_type": "markdown",
      "source": [
        "# Exercício 8 - Imprimindo, imprimindo Formatação de strings de forma mais complexa"
      ],
      "metadata": {
        "id": "YKkkL_tzX6oG"
      }
    },
    {
      "cell_type": "code",
      "source": [
        "formatter = \"{} {} {} {}\"\n",
        "print(formatter.format(1, 2, 3, 4))#altera os {} para 1,2,3,4\n",
        "print(formatter.format(\"one\", \"two\", \"three\", \"four\"))\n",
        "print(formatter.format(True, False, False, True))\n",
        "print(formatter.format(formatter, formatter, formatter, formatter))#retorna para o valor da variavel formatter\n",
        "print(formatter.format(\n",
        "\"Try your\",\n",
        "\"Own text here\",\n",
        "\"Maybe a poem\",\n",
        "\"Or a song about fear\"\n",
        "))"
      ],
      "metadata": {
        "id": "GFsf4kYQqHvy",
        "colab": {
          "base_uri": "https://localhost:8080/"
        },
        "outputId": "7bf02fe6-aad3-4c24-dd0b-bb8acd425089"
      },
      "execution_count": null,
      "outputs": [
        {
          "output_type": "stream",
          "name": "stdout",
          "text": [
            "1 2 3 4\n",
            "one two three four\n",
            "True False False True\n",
            "{} {} {} {} {} {} {} {} {} {} {} {} {} {} {} {}\n",
            "Try your Own text here Maybe a poem Or a song about fear\n"
          ]
        }
      ]
    },
    {
      "cell_type": "code",
      "source": [],
      "metadata": {
        "id": "dDLn1XGOqmUt"
      },
      "execution_count": null,
      "outputs": []
    },
    {
      "cell_type": "markdown",
      "source": [
        "# Exercício 9 -Imprimindo, imprimindo, imprimindo"
      ],
      "metadata": {
        "id": "Omxv7F1pq_dj"
      }
    },
    {
      "cell_type": "code",
      "source": [
        "days = \"Mon Tue Wed Thu Fri Sat Sun\"\n",
        "months = 'Jan\\nFeb\\nMar\\nApr\\nMay\\nJun\\nJul\\nAug'# n para pular linhas\n",
        "print(\"Here are the days: \", days)\n",
        "print(\"Here are the months: \", months)\n",
        "print(\"\"\"\n",
        "There is something going on here.\n",
        "With the three double-quotes.\n",
        "We'll be able to type as much as we like.\n",
        "Even 4 lines if we want, or 5, or 6.\n",
        "\"\"\") #para imprimir em bloco\n"
      ],
      "metadata": {
        "id": "u1_xFo18rLtR",
        "colab": {
          "base_uri": "https://localhost:8080/"
        },
        "outputId": "cf3d0c84-07ff-4e5d-f46a-36ddac042b11"
      },
      "execution_count": null,
      "outputs": [
        {
          "output_type": "stream",
          "name": "stdout",
          "text": [
            "Here are the days:  Mon Tue Wed Thu Fri Sat Sun\n",
            "Here are the months:  Jan\n",
            "Feb\n",
            "Mar\n",
            "Apr\n",
            "May\n",
            "Jun\\Jul\n",
            "Aug\n",
            "\n",
            "There is something going on here.\n",
            "With the three double-quotes.\n",
            "We'll be able to type as much as we like.\n",
            "Even 4 lines if we want, or 5, or 6.\n",
            "\n"
          ]
        }
      ]
    },
    {
      "cell_type": "markdown",
      "source": [
        "# Exercício 10 - O que foi isso?"
      ],
      "metadata": {
        "id": "rGr4U08TsBxh"
      }
    },
    {
      "cell_type": "code",
      "source": [
        "tabby_cat = \"\\tI'm tabbed in.\" #\\t adiciona recuo\n",
        "persian_cat = \"Im split\\non a line.\" # \\ para partir a string\n",
        "backslash_cat = \"I'm \\ a \\ cat.\"\n",
        "fat_cat = \"\"\"\n",
        "I'll do a list:\n",
        "\\t* Cat food\n",
        "\\t* Fishies\n",
        "\\t* Catnip\\n\\t* Grass\n",
        "\"\"\"\n",
        "print(tabby_cat)\n",
        "print(persian_cat)\n",
        "print(backslash_cat)\n",
        "print(fat_cat)# em lista"
      ],
      "metadata": {
        "id": "Hpsk2_SksKsY",
        "colab": {
          "base_uri": "https://localhost:8080/"
        },
        "outputId": "0ae103cf-59d7-4c20-c142-f99532b83de9"
      },
      "execution_count": null,
      "outputs": [
        {
          "output_type": "stream",
          "name": "stdout",
          "text": [
            "\tI'm tabbed in.\n",
            "Im split\n",
            "on a line.\n",
            "I'm \\ a \\ cat.\n",
            "\n",
            "I'll do a list:\n",
            "\t Cat food\n",
            "\t* Fishies\n",
            "\t* Catnip\n",
            "\t* Grass\n",
            "\n"
          ]
        }
      ]
    },
    {
      "cell_type": "code",
      "source": [],
      "metadata": {
        "id": "3N9Colh1sh3c"
      },
      "execution_count": null,
      "outputs": []
    },
    {
      "cell_type": "markdown",
      "source": [
        "# Exercício 11 -  Fazendo perguntas"
      ],
      "metadata": {
        "id": "NWruOFZmsgmo"
      }
    },
    {
      "cell_type": "code",
      "source": [
        "print(\"How old are you?\", end=' ')\n",
        "age = input()# define a variavél com os valores de entrada\n",
        "print(\"How tall are you?\", end=' ')\n",
        "height = input()\n",
        "print(\"How much do you weigh?\", end=' ')\n",
        "weight = input()\n",
        "\n",
        "print(f\"So, you're {age}old, {height} tall and {weight} heavy.\")"
      ],
      "metadata": {
        "id": "vc11c5XksnCw",
        "colab": {
          "base_uri": "https://localhost:8080/"
        },
        "outputId": "c68c5c51-1d0e-405e-dd34-feaa291792e8"
      },
      "execution_count": null,
      "outputs": [
        {
          "output_type": "stream",
          "name": "stdout",
          "text": [
            "How old are you? 11\n",
            "How tall are you? 1,60\n",
            "How much do you weigh? 40\n",
            "So, you're 11old, 1,60 tall and 40 heavy.\n"
          ]
        }
      ]
    },
    {
      "cell_type": "markdown",
      "source": [
        "# Exercício 12 - Perguntando as pessoas"
      ],
      "metadata": {
        "id": "Vs1Ql1BSwQAk"
      }
    },
    {
      "cell_type": "code",
      "source": [
        "age=input(\"How old are you? \")#Encurta o processo atribuindo a variavél com o que é digitado pelo usuário\n",
        "height=input(\"How tall are you? \")\n",
        "weight=input(\"How much do you weigh? \")\n",
        "print(f\"So, you're {age} old, {height} tall and {weight} heavy.\")"
      ],
      "metadata": {
        "id": "QD3WbHJhwWb7"
      },
      "execution_count": null,
      "outputs": []
    },
    {
      "cell_type": "markdown",
      "source": [
        "# Exercício 13 - Instrução IF"
      ],
      "metadata": {
        "id": "xpkKmoGowd_j"
      }
    },
    {
      "cell_type": "code",
      "source": [
        "people = 20  # quantidade de pessoas\n",
        "cats = 30    # quantidade de gatos\n",
        "dogs = 15    # quantidade de cachorros\n",
        "\n",
        "if people < cats:  # se tiver mais gatos que pessoas\n",
        "    print(\"Too many cats! The world is doomed!\")\n",
        "\n",
        "if people > cats:  # se tiver mais pessoas que gatos\n",
        "    print(\"Not many cats! The world is saved!\")\n",
        "\n",
        "if people < dogs:  # se tiver mais cachorros que pessoas\n",
        "    print(\"The world is drooled on!\")\n",
        "\n",
        "if people > dogs:  # se tiver mais pessoas que cachorros\n",
        "    print(\"The world is dry!\")\n",
        "\n",
        "dogs += 5  # adiciona 5 cachorros\n",
        "\n",
        "if people >= dogs:  # se pessoas for maior ou igual a cachorros\n",
        "    print(\"People are greater than or equal to dogs.\")\n",
        "\n",
        "if people <= dogs:  # se pessoas for menor ou igual a cachorros\n",
        "    print(\"People are less than or equal to dogs.\")\n",
        "\n",
        "if people == dogs:  # se a quantidade de pessoas for igual à de cachorros\n",
        "    print(\"People are dogs.\")\n"
      ],
      "metadata": {
        "colab": {
          "base_uri": "https://localhost:8080/"
        },
        "id": "OodeLowiwm1b",
        "outputId": "6f8d394c-382c-4a61-a136-dfd682e3f555"
      },
      "execution_count": null,
      "outputs": [
        {
          "output_type": "stream",
          "name": "stdout",
          "text": [
            "Too many cats! The world is doomed!\n",
            "The world is dry!\n",
            "People are greater than or equal to dogs.\n",
            "People are less than or equal to dogs.\n",
            "People are dogs.\n"
          ]
        }
      ]
    },
    {
      "cell_type": "markdown",
      "source": [
        "# Exercicio 14 - Else e IF"
      ],
      "metadata": {
        "id": "nzg5ErPRC_Bf"
      }
    },
    {
      "cell_type": "code",
      "source": [
        "people = 30  # quantidade de pessoas\n",
        "cars = 40    # quantidade de carros\n",
        "trucks = 15  # quantidade de caminhões\n",
        "\n",
        "if cars > people:  # se tiver mais carros que pessoas\n",
        "    print(\"We should take the cars.\")\n",
        "elif cars < people:  # se tiver menos carros que pessoas\n",
        "    print(\"We should not take the cars.\")\n",
        "else:  # se forem iguais\n",
        "    print(\"We can't decide.\")\n",
        "\n",
        "if trucks > cars:  #se tiver mais caminhões que carros\n",
        "    print(\"That's too many trucks.\")\n",
        "elif trucks < cars:  # se tiver menos caminhões que carros\n",
        "    print(\"Maybe we could take the trucks.\")\n",
        "else:  # se forem iguais\n",
        "    print(\"We still can't decide.\")\n",
        "\n",
        "if people > trucks:  # se tiver mais pessoas que caminhões\n",
        "    print(\"Alright, let's just take the trucks.\")\n",
        "else:  # se não tiver mais pessoas que caminhões\n",
        "    print(\"Fine, let's stay home then.\")"
      ],
      "metadata": {
        "id": "8BT-ZfwW3fFM"
      },
      "execution_count": null,
      "outputs": []
    },
    {
      "cell_type": "markdown",
      "source": [
        "# Exercício 15 - Tomando Decisões"
      ],
      "metadata": {
        "id": "fIKag4j6DSGM"
      }
    },
    {
      "cell_type": "code",
      "source": [
        "print(\"\"\"You enter a dark room with two doors.\n",
        "Do you go through door #1 or door #2?\"\"\")\n",
        "\n",
        "door = input(\"> \")  # o jogador escolhe a porta\n",
        "\n",
        "if door == \"1\":\n",
        "    print(\"There's a giant bear here eating a cheese cake.\")\n",
        "    print(\"What do you do?\")\n",
        "    print(\"1. Take the cake.\")\n",
        "    print(\"2. Scream at the bear.\")\n",
        "\n",
        "    bear = input(\"> \")  # o jogador escolhe o que fazer com o urso\n",
        "\n",
        "    if bear == \"1\":\n",
        "        print(\"The bear eats your face off. Good job!\")  # se pegar o bolo\n",
        "    elif bear == \"2\":\n",
        "        print(\"The bear eats your legs off. Good job!\")  # se gritar com o urso\n",
        "    else:\n",
        "        print(f\"Well, doing {bear} is probably better.\")  # qualquer outra ação\n",
        "        print(\"Bear runs away.\")\n",
        "\n",
        "elif door == \"2\":\n",
        "    print(\"You stare into the endless abyss at Cthulhu's retina.\")\n",
        "    print(\"1. Blueberries.\")\n",
        "    print(\"2. Yellow jacket clothespins.\")\n",
        "    print(\"3. Understanding revolvers yelling melodies.\")\n",
        "\n",
        "    insanity = input(\"> \")  # jogador escolhe uma opção maluca\n",
        "\n",
        "    if insanity == \"1\" or insanity == \"2\":\n",
        "        print(\"Your body survives powered by a mind of jello.\")  # opções seguras\n",
        "        print(\"Good job!\")\n",
        "    else:\n",
        "        print(\"The insanity rots your eyes into a pool of muck.\")  # escolha mais insana\n",
        "        print(\"Good job!\")\n",
        "\n",
        "else:\n",
        "    print(\"You stumble around and fall on a knife and die. Good job!\")  # se digitar algo além de 1 ou 2\n"
      ],
      "metadata": {
        "colab": {
          "base_uri": "https://localhost:8080/"
        },
        "id": "hR9sHLzT4NrT",
        "outputId": "2fef3022-a978-4f0e-f1f7-014497887bbf"
      },
      "execution_count": null,
      "outputs": [
        {
          "metadata": {
            "tags": null
          },
          "name": "stdout",
          "output_type": "stream",
          "text": [
            "You enter a dark room with two doors.\n",
            "Do you go through door #1 or door #2?\n"
          ]
        }
      ]
    },
    {
      "cell_type": "markdown",
      "source": [
        "# Exercício 16 - Loops e Listas"
      ],
      "metadata": {
        "id": "tMdD5HyQEbJO"
      }
    },
    {
      "cell_type": "code",
      "source": [
        "the_count = [1, 2, 3, 4, 5]  # lista com números\n",
        "fruits = ['apples', 'oranges', 'pears', 'apricots']  # lista com frutas\n",
        "change = [1, 'pennies', 2, 'dimes', 3, 'quarters']  # lista com números e strings misturados\n",
        "for number in the_count:#percorre cada numero da lista the_count\n",
        "  print(f\"This is count {number}\")\n",
        "\n",
        "for fruit in fruits:# percorre a lista de frutas\n",
        "  print(f\"A fruit of type: {fruit}\")\n",
        "\n",
        "#percorre a lista com valores variados\n",
        "for i in change:\n",
        "  print(f\"I got {i}\")  # imprime cada item da lista change\n",
        "\n",
        "elements = []  # lista vazia\n",
        "\n",
        "# adiciona números de 0 a 5 na lista elements\n",
        "for i in range(0, 6):\n",
        "  print(f\"Adding {i} to the list.\")\n",
        "  elements.append(i)  # adiciona o número na lista\n",
        "\n",
        "# percorre a lista elements e imprime os valores\n",
        "for i in elements:\n",
        "  print(f\"Element was: {i}\")"
      ],
      "metadata": {
        "collapsed": true,
        "id": "IrY2vwbe4lX7",
        "colab": {
          "base_uri": "https://localhost:8080/"
        },
        "outputId": "810b0fd9-5f9b-4aa8-cb53-9518e48cb29e"
      },
      "execution_count": null,
      "outputs": [
        {
          "output_type": "stream",
          "name": "stdout",
          "text": [
            "This is count 1\n",
            "This is count 2\n",
            "This is count 3\n",
            "This is count 4\n",
            "This is count 5\n",
            "A fruit of type: apples\n",
            "A fruit of type: oranges\n",
            "A fruit of type: pears\n",
            "A fruit of type: apricots\n",
            "I got 1\n",
            "I got pennies\n",
            "I got 2\n",
            "I got dimes\n",
            "I got 3\n",
            "I got quarters\n",
            "Adding 0 to the list.\n",
            "Adding 1 to the list.\n",
            "Adding 2 to the list.\n",
            "Adding 3 to the list.\n",
            "Adding 4 to the list.\n",
            "Adding 5 to the list.\n",
            "Element was: 0\n",
            "Element was: 1\n",
            "Element was: 2\n",
            "Element was: 3\n",
            "Element was: 4\n",
            "Element was: 5\n"
          ]
        }
      ]
    },
    {
      "cell_type": "markdown",
      "source": [
        "#Exercício 17 - Loops While"
      ],
      "metadata": {
        "id": "15vBO3DkWXWG"
      }
    },
    {
      "cell_type": "code",
      "source": [
        "i=0\n",
        "numbers = []\n",
        "while i<6:\n",
        "  print(f\"At the top i is{i}\")\n",
        "  numbers.append(i)#append acrescenta o valor à lista numbers\n",
        "  i=i+1#incremento\n",
        "  print(\"Numbers now: \", numbers)\n",
        "  print(f\"At the bottom i is {i}\")\n",
        "print(\"The numbers: \")\n",
        "for num in numbers:\n",
        "  print(num)#percorre os numeros\n"
      ],
      "metadata": {
        "id": "yMTZuHo9_McL",
        "colab": {
          "base_uri": "https://localhost:8080/"
        },
        "outputId": "4d4df692-ea4e-4f81-91a4-7b4f87373e99"
      },
      "execution_count": null,
      "outputs": [
        {
          "output_type": "stream",
          "name": "stdout",
          "text": [
            "At the top i is0\n",
            "Numbers now:  [0]\n",
            "At the bottom i is 1\n",
            "At the top i is1\n",
            "Numbers now:  [0, 1]\n",
            "At the bottom i is 2\n",
            "At the top i is2\n",
            "Numbers now:  [0, 1, 2]\n",
            "At the bottom i is 3\n",
            "At the top i is3\n",
            "Numbers now:  [0, 1, 2, 3]\n",
            "At the bottom i is 4\n",
            "At the top i is4\n",
            "Numbers now:  [0, 1, 2, 3, 4]\n",
            "At the bottom i is 5\n",
            "At the top i is5\n",
            "Numbers now:  [0, 1, 2, 3, 4, 5]\n",
            "At the bottom i is 6\n",
            "The numbers: \n",
            "0\n",
            "1\n",
            "2\n",
            "3\n",
            "4\n",
            "5\n"
          ]
        }
      ]
    },
    {
      "cell_type": "markdown",
      "source": [
        "# Exercício 18 - Nomes, Variáveis, Códigos, Funções"
      ],
      "metadata": {
        "id": "inMLmieSWeBO"
      }
    },
    {
      "cell_type": "code",
      "source": [
        "def print_two(*args):  # aceita dois argumentos usando *args (em forma de tupla)\n",
        "  arg1, arg2 = args  # desempacota os dois argumentos\n",
        "  print(f\"arg1: {arg1}, arg2: {arg2}\")  # imprime os dois\n",
        "def print_two_again(arg1, arg2):  # mesma função acima, mas mais direta\n",
        "  print(f\"arg1: {arg1}, arg2: {arg2}\")  # imprime os dois\n",
        "def print_one(arg1):  # função que recebe só um argumento\n",
        "  print(f\"arg1: {arg1}\")  # imprime esse único argumento\n",
        "def print_none():  # função sem argumentos\n",
        "  print(\"I got nothin'.\")  # só imprime uma frase\n",
        "\n",
        "print_two(\"Zed\", \"Shaw\")  # usando *args\n",
        "print_two_again(\"Zed\", \"Shaw\")  # forma direta\n",
        "print_one(\"First!\")  # passa só um valor\n",
        "print_none()  # sem passar nada"
      ],
      "metadata": {
        "id": "JRzz2apgCkBP",
        "colab": {
          "base_uri": "https://localhost:8080/"
        },
        "outputId": "cbfc146d-3eeb-4296-9dd6-02570c6a6de5"
      },
      "execution_count": null,
      "outputs": [
        {
          "output_type": "stream",
          "name": "stdout",
          "text": [
            "arg1: Zed, arg2: Shaw\n",
            "arg1: Zed, arg2: Shaw\n",
            "arg1: First!\n",
            "I got nothin'.\n"
          ]
        }
      ]
    },
    {
      "cell_type": "markdown",
      "source": [
        "# Exercício 19 - Funções e Variáveis"
      ],
      "metadata": {
        "id": "KrJytJK3Wq6x"
      }
    },
    {
      "cell_type": "code",
      "source": [
        "def cheese_and_crackers(cheese_count, boxes_of_crackers):  # define a função com dois parâmetros - quantidade de queijo e bolacha\n",
        "  print(f\"You have {cheese_count} cheeses!\")  # imprime quantidade de queijo\n",
        "  print(f\"You have {boxes_of_crackers} boxes of crackers!\")  # imprime quantidade de bolachas\n",
        "  print(\"Man that's enough for a party!\")\n",
        "  print(\"Get a blanket.\\n\")  # quebra de linha pra separar\n",
        "\n",
        "print(\"We can just give the function numbers directly:\")\n",
        "cheese_and_crackers(20, 30)# passando valores diretos\n",
        "\n",
        "print(\"OR, we can use variables from our script:\")\n",
        "amount_of_cheese = 10  # define quantidade de queijo\n",
        "amount_of_crackers = 50  # define quantidade de bolachas\n",
        "cheese_and_crackers(amount_of_cheese, amount_of_crackers)#reune\n",
        "\n",
        "print(\"We can even do math inside too:\")\n",
        "cheese_and_crackers(10 + 20, 5 + 6)# passando expressões matemáticas direto\n",
        "\n",
        "print(\"And we can combine the two, variables and math:\")  # misturando variável com conta\n",
        "cheese_and_crackers(amount_of_cheese + 100, amount_of_crackers + 1000)\n"
      ],
      "metadata": {
        "id": "K7IHDzZ7DcYP",
        "colab": {
          "base_uri": "https://localhost:8080/"
        },
        "outputId": "e089b84d-9ae9-4543-9dc0-fccf2a1cfa15"
      },
      "execution_count": null,
      "outputs": [
        {
          "output_type": "stream",
          "name": "stdout",
          "text": [
            "We can just give the function numbers directly:\n",
            "You have 20 cheeses!\n",
            "You have 30 boxes of crackers!\n",
            "Man that's enough for a party!\n",
            "Get a blanket.\n",
            "\n",
            "OR, we can use variables from our script:\n",
            "You have 10 cheeses!\n",
            "You have 50 boxes of crackers!\n",
            "Man that's enough for a party!\n",
            "Get a blanket.\n",
            "\n",
            "We can even do math inside too:\n",
            "You have 30 cheeses!\n",
            "You have 11 boxes of crackers!\n",
            "Man that's enough for a party!\n",
            "Get a blanket.\n",
            "\n",
            "And we can combine the two, variables and math:\n",
            "You have 110 cheeses!\n",
            "You have 1050 boxes of crackers!\n",
            "Man that's enough for a party!\n",
            "Get a blanket.\n",
            "\n"
          ]
        }
      ]
    },
    {
      "cell_type": "markdown",
      "source": [
        "# Exercício 20 - As Funções podem retornar algo"
      ],
      "metadata": {
        "id": "KseIO8QVW_Fm"
      }
    },
    {
      "cell_type": "code",
      "source": [
        "def add(a,b):\n",
        "  print(f\"ADDING {a} + {b}\")\n",
        "  return a+b\n",
        "def subtract(a,b):\n",
        "  print(f\"SUBTRACTING {a}-{b}\")\n",
        "  return a-b\n",
        "def multiply(a,b):\n",
        "  print(f\"MULTIPLYING {a}*{b}\")\n",
        "  return a*b\n",
        "def divide(a,b):\n",
        "  print(f\"DIVIDING{a}/{b}\")\n",
        "  return a/b\n",
        "#retornam cada uma respectivamente a soma dos argumentos, subtração, multiplicação e divisão\n",
        "print(\"Let's do some math with just functions!\")\n",
        "age=add(30,5)\n",
        "height=subtract(78,4)\n",
        "weight=multiply(90,2)\n",
        "iq=divide(100,2)\n",
        "print(f\"Age: {age}, Height: {height}, Weight: {weight}, IQ: {iq}\")\n",
        "\n",
        "print(\"Here is the puzzle\")\n",
        "what=add(age, subtract(height, multiply(weight, divide(iq,2))))\n",
        "print(\"That becomes:\", what,\"Can you do it by hand?\")\n",
        "\n"
      ],
      "metadata": {
        "colab": {
          "base_uri": "https://localhost:8080/"
        },
        "id": "ow047KzKEmrV",
        "outputId": "a1227ddd-1df4-430b-dd00-2829cd537e56"
      },
      "execution_count": null,
      "outputs": [
        {
          "output_type": "stream",
          "name": "stdout",
          "text": [
            "Let's do some math with just functions!\n",
            "ADDING 30 + 5\n",
            "SUBTRACTING 78-4\n",
            "MULTIPLYING 90*2\n",
            "DIVIDING100/2\n",
            "Age: 35, Height: 74, Weight: 180, IQ: 50.0\n",
            "Here is the puzzle\n",
            "DIVIDING50.0/2\n",
            "MULTIPLYING 180*25.0\n",
            "SUBTRACTING 74-4500.0\n",
            "ADDING 35 + -4426.0\n",
            "That becomes: -4391.0 Can you do it by hand?\n"
          ]
        }
      ]
    },
    {
      "cell_type": "markdown",
      "source": [
        "#Exercício 21 - Parâmetros, Descompactação e Variáveis"
      ],
      "metadata": {
        "id": "BllRe1hzXIsG"
      }
    },
    {
      "cell_type": "code",
      "source": [
        "from sys import argv\n",
        "script, first, second, third = argv\n",
        "print(\"the script is called:\", script)\n",
        "print(\"your first variable is:\",first)\n",
        "print(\"your second variable is:\", second)\n",
        "print(\"your third variable is\", third)"
      ],
      "metadata": {
        "id": "yXkHkAUmKgFe",
        "colab": {
          "base_uri": "https://localhost:8080/",
          "height": 211
        },
        "outputId": "7e7373ce-61a3-471e-935f-320e7f912876"
      },
      "execution_count": null,
      "outputs": [
        {
          "output_type": "error",
          "ename": "ValueError",
          "evalue": "not enough values to unpack (expected 4, got 3)",
          "traceback": [
            "\u001b[0;31m---------------------------------------------------------------------------\u001b[0m",
            "\u001b[0;31mValueError\u001b[0m                                Traceback (most recent call last)",
            "\u001b[0;32m<ipython-input-5-3e27a94d5899>\u001b[0m in \u001b[0;36m<cell line: 0>\u001b[0;34m()\u001b[0m\n\u001b[1;32m      1\u001b[0m \u001b[0;32mfrom\u001b[0m \u001b[0msys\u001b[0m \u001b[0;32mimport\u001b[0m \u001b[0margv\u001b[0m\u001b[0;34m\u001b[0m\u001b[0;34m\u001b[0m\u001b[0m\n\u001b[0;32m----> 2\u001b[0;31m \u001b[0mscript\u001b[0m\u001b[0;34m,\u001b[0m \u001b[0mfirst\u001b[0m\u001b[0;34m,\u001b[0m \u001b[0msecond\u001b[0m\u001b[0;34m,\u001b[0m \u001b[0mthird\u001b[0m \u001b[0;34m=\u001b[0m \u001b[0margv\u001b[0m\u001b[0;34m\u001b[0m\u001b[0;34m\u001b[0m\u001b[0m\n\u001b[0m\u001b[1;32m      3\u001b[0m \u001b[0mprint\u001b[0m\u001b[0;34m(\u001b[0m\u001b[0;34m\"the script is called:\"\u001b[0m\u001b[0;34m,\u001b[0m \u001b[0mscript\u001b[0m\u001b[0;34m)\u001b[0m\u001b[0;34m\u001b[0m\u001b[0;34m\u001b[0m\u001b[0m\n\u001b[1;32m      4\u001b[0m \u001b[0mprint\u001b[0m\u001b[0;34m(\u001b[0m\u001b[0;34m\"your first variable is:\"\u001b[0m\u001b[0;34m,\u001b[0m\u001b[0mfirst\u001b[0m\u001b[0;34m)\u001b[0m\u001b[0;34m\u001b[0m\u001b[0;34m\u001b[0m\u001b[0m\n\u001b[1;32m      5\u001b[0m \u001b[0mprint\u001b[0m\u001b[0;34m(\u001b[0m\u001b[0;34m\"your second variable is:\"\u001b[0m\u001b[0;34m,\u001b[0m \u001b[0msecond\u001b[0m\u001b[0;34m)\u001b[0m\u001b[0;34m\u001b[0m\u001b[0;34m\u001b[0m\u001b[0m\n",
            "\u001b[0;31mValueError\u001b[0m: not enough values to unpack (expected 4, got 3)"
          ]
        }
      ]
    },
    {
      "cell_type": "markdown",
      "source": [
        "# Exercício 22 - Parâmetros, Descompactação e Variáveis"
      ],
      "metadata": {
        "id": "wpsgrmZVXQoe"
      }
    },
    {
      "cell_type": "code",
      "source": [
        "from sys import argv\n",
        "script, user_name = argv\n",
        "prompt = '>'\n",
        "print(f\"hi {user_name} \")"
      ],
      "metadata": {
        "id": "BTWV9FdOqrIk"
      },
      "execution_count": null,
      "outputs": []
    },
    {
      "cell_type": "markdown",
      "source": [
        "# Exercício 23 - Lendo arquivos"
      ],
      "metadata": {
        "id": "86qt0jA-MKNt"
      }
    },
    {
      "cell_type": "code",
      "source": [
        "from sys import argv\n",
        "script,filename = argvtxt = open(filename)\n",
        "\n",
        "print(f\"here's your file{filename}:\")\n",
        "print(txt.read())\n",
        "\n",
        "print(\"Type the filename again:\")\n",
        "file_again = input(\">\")\n",
        "txt_again = open(file_again)\n",
        "print(txt_again.read())"
      ],
      "metadata": {
        "id": "DAX9fDfOACFj"
      },
      "execution_count": null,
      "outputs": []
    },
    {
      "cell_type": "markdown",
      "source": [
        "# Exercício 24 - Lendo e gravando arquivos"
      ],
      "metadata": {
        "id": "TyKxkWuCMZ3o"
      }
    },
    {
      "cell_type": "code",
      "source": [
        "from sys import argv\n",
        "script, filename = argv\n",
        "print(f\"We're going to erase {filename}.\")\n",
        "print(\"If you don't want that, hit CTRL-C (^C).\")\n",
        "print(\"If you do want that, hit RETURN.\")\n",
        "input(\"?\")\n",
        "print(\"Opening the file...\")\n",
        "target = open(filename, 'w')\n",
        "print(\"Truncating the file. Goodbye!\")\n",
        "target.truncate()\n",
        "print(\"Now I'm going to ask you for three lines.\")\n",
        "line1 = input(\"line 1: \")\n",
        "line2 = input(\"line 2: \")\n",
        "line3 = input(\"line 3: \")\n",
        "print(\"I'm going to write these to the file.\")\n",
        "target.write(line1)\n",
        "target.write(\"\\n\")\n",
        "target.write(line2)\n",
        "target.write(\"\\n\")\n",
        "target.write(line3)\n",
        "target.write(\"\\n\")\n",
        "\n",
        "print(\"And finally, we close it.\")\n",
        "target.close"
      ],
      "metadata": {
        "id": "cKF0YcpBAgpr"
      },
      "execution_count": null,
      "outputs": []
    },
    {
      "cell_type": "markdown",
      "source": [
        "# Exercício 26 - Funções e Arquivos"
      ],
      "metadata": {
        "id": "KhtOQvygM42O"
      }
    },
    {
      "cell_type": "code",
      "source": [
        "from sys import argv  # importa a função argv pra pegar argumentos do terminal\n",
        "script, input_file = argv  # recebe dois argumentos: nome do script e o arquivo a abrir\n",
        "\n",
        "def print_all(f):  # função pra imprimir o conteúdo inteiro do arquivo\n",
        "  print(f.read())\n",
        "\n",
        "def rewind(f):  # volta o ponteiro pro começo do arquivo\n",
        "  f.seek(0)\n",
        "\n",
        "def print_a_line(line_count, f):  # imprime uma linha com o número\n",
        "  print(line_count, f.readline())\n",
        "\n",
        "current_file = open(input_file)  # abre o arquivo passado por argumento\n",
        "\n",
        "print(\"First let's print the whole file:\\n\")\n",
        "print_all(current_file)  # imprime o conteúdo todo do arquivo\n",
        "\n",
        "print(\"Now let's rewind, kind of like a tape.\")\n",
        "rewind(current_file)  # volta pro começo do arquivo\n",
        "\n",
        "print(\"Let's print three lines:\")\n",
        "current_line = 1\n",
        "print_a_line(current_line, current_file)\n",
        "\n",
        "current_line = current_line + 1\n",
        "print_a_line(current_line, current_file)\n",
        "\n",
        "current_line = current_line + 1\n",
        "print_a_line(current_line, current_file)\n",
        "#imprime linhas"
      ],
      "metadata": {
        "id": "SG41XOJTM_Sb"
      },
      "execution_count": null,
      "outputs": []
    },
    {
      "cell_type": "markdown",
      "source": [
        "# Exercício 27 - Mais prática"
      ],
      "metadata": {
        "id": "f5I3McxpN-Ao"
      }
    },
    {
      "cell_type": "code",
      "source": [
        "print(\"Let's practice everything\")\n",
        "print(\"You\\'d need to know \\'bout escapes with \\\\ that do:\")\n",
        "print(\"\\n newlines and \\t tabs\")  # exemplos de escape\n",
        "\n",
        "poem = \"\"\"\n",
        "\\t The lovely world\n",
        "with logic so firmly planted\n",
        "cannot discern \\n the needs of love\n",
        "nor comprehend passion from intuition\n",
        "and requires an explanation\n",
        "\\n\\t\\twhere there is none.\n",
        "\"\"\"  # string formatada como poema com tab e quebra de linha\n",
        "\n",
        "print(\"--------------\")\n",
        "print(poem)\n",
        "print(\"--------------\")\n",
        "\n",
        "five = 10 - 2 + 3 - 6  # conta que dá 5\n",
        "print(f\"This should be five: {five}\")\n",
        "\n",
        "def secret_formula(started):  # função que calcula várias coisas\n",
        "  jelly_beans = started * 500\n",
        "  jars = jelly_beans / 1000\n",
        "  crates = jars / 100\n",
        "  return jelly_beans, jars, crates\n",
        "\n",
        "start_point = 10000\n",
        "beans, jars, crates = secret_formula(start_point)  # chama função e guarda os valores\n",
        "\n",
        "print(f\"with a starting point of: {start_point}\")\n",
        "print(f\"We'd have {beans} beans, {jars} jars, and {crates} crates.\")  # aqui tá certo\n",
        "\n",
        "start_point = start_point / 10  # reduz o valor inicial\n",
        "\n",
        "print(\"We can also do that this way:\")\n",
        "formula = secret_formula(start_point)  # chama função de novo\n",
        "\n",
        "print(\"We'd have {} beans, {} jars, and {} crates.\".format(*formula))  # imprime usando format"
      ],
      "metadata": {
        "colab": {
          "base_uri": "https://localhost:8080/"
        },
        "id": "5wj0rykjODO7",
        "outputId": "fc884eed-de91-4045-d466-1ceb754010c7"
      },
      "execution_count": null,
      "outputs": [
        {
          "output_type": "stream",
          "name": "stdout",
          "text": [
            "Let's practice everything\n",
            "You'd need to know 'bout escapes with \\ that do:\n",
            "\n",
            " newlines and \t tabs\n",
            "--------------\n",
            "\n",
            "\t The lovely world\n",
            "with logic so firmly planted\n",
            "cannot discern \n",
            " the needs of love\n",
            "nor comprehend passion from intuition\n",
            "and requires an explanation\n",
            "\n",
            "\t\twhere there is none.\n",
            "\n",
            "--------------\n",
            "This should be five: 5\n",
            "with a starting point of: 10000\n",
            "We'd have 5000000 beans, 5000.0 jars, and 50.0 crates.\n",
            "We can also do that this way:\n",
            "We'd have 500000.0 beans, 500.0 jars, and 5.0 crates.\n"
          ]
        }
      ]
    },
    {
      "cell_type": "markdown",
      "source": [
        "# Exercício 28 - Desvios e Funções\n"
      ],
      "metadata": {
        "id": "KwDy4XZOO7bt"
      }
    },
    {
      "cell_type": "code",
      "source": [
        "from sys import exit\n",
        "\n",
        "def sala_do_ouro():\n",
        "  print(\"Esta sala está cheia de ouro. Quanto você pega?\")\n",
        "  print(\"Digite um número.\")\n",
        "\n",
        "  escolha = input(\"> \")\n",
        "  if \"0\" in escolha or \"1\" in escolha:\n",
        "    quanto = int(escolha)\n",
        "  else:\n",
        "    morrer(\"Cara, aprenda a digitar um número.\")\n",
        "\n",
        "  if quanto < 50:\n",
        "    print(\"Legal, você não é ganancioso, você venceu!\")\n",
        "    exit(0)\n",
        "  else:\n",
        "    morrer(\"Seu ganancioso!\")\n",
        "\n",
        "\n",
        "def sala_do_urso():\n",
        "  print(\"Há um urso aqui.\")\n",
        "  print(\"O urso tem um monte de mel.\")\n",
        "  print(\"O urso gordo está na frente de outra porta.\")\n",
        "  print(\"O que você faz?\")\n",
        "  print(\"Opções: 'pegar mel', 'provocar urso'.\")\n",
        "  urso_movido = False\n",
        "\n",
        "  while True:\n",
        "    escolha = input(\"> \")\n",
        "\n",
        "    if escolha == \"pegar mel\":\n",
        "      morrer(\"O urso olha para você e arranca sua cara com uma patada.\")\n",
        "    elif escolha == \"provocar urso\" and not urso_movido:\n",
        "      print(\"O urso se moveu da porta.\")\n",
        "      print(\"Você pode 'abrir porta' agora.\")\n",
        "      urso_movido = True\n",
        "    elif escolha == \"provocar urso\" and urso_movido:\n",
        "      morrer(\"O urso fica puto e arranca sua perna.\")\n",
        "    elif escolha == \"abrir porta\" and urso_movido:\n",
        "      sala_do_ouro()\n",
        "    else:\n",
        "      print(\"Não entendi sua escolha. Tente novamente.\")\n",
        "\n",
        "\n",
        "def sala_de_cthulhu():\n",
        "  print(\"Aqui você vê o grande mal, Cthulhu.\")\n",
        "  print(\"Ele, isso, seja lá o que for, olha para você e você enlouquece.\")\n",
        "  print(\"O que você faz?\")\n",
        "  print(\"Opções: 'foge', 'cabeça'.\")\n",
        "\n",
        "  escolha = input(\"> \")\n",
        "\n",
        "  if \"foge\" in escolha:\n",
        "    comecar()\n",
        "  elif \"cabeça\" in escolha:\n",
        "    morrer(\"Bem, isso foi gostoso!\")\n",
        "  else:\n",
        "    sala_de_cthulhu()\n",
        "\n",
        "\n",
        "def morrer(porque): #esqueci o ':' na primeira rodada\n",
        "  print(porque, \"Bom trabalho!\")\n",
        "  return \"The game is over\"\n",
        "\n",
        "def comecar():\n",
        "  print(\"Você está em uma sala escura.\")\n",
        "  print(\"Há uma porta  à sua direita e à sua esquerda.\")\n",
        "  print(\"Qual você pega?\")\n",
        "  print(\"Opções: 'esquerda', 'direita'.\")\n",
        "\n",
        "  escolha = input(\"> \")\n",
        "\n",
        "  if escolha == \"esquerda\":\n",
        "    sala_do_urso()\n",
        "  elif escolha == \"direita\":\n",
        "    sala_de_cthulhu()\n",
        "  else:\n",
        "    morrer(\"Você tropeça pela sala até morrer de fome.\")\n",
        "\n",
        "\n",
        "comecar()"
      ],
      "metadata": {
        "colab": {
          "base_uri": "https://localhost:8080/",
          "height": 911
        },
        "id": "r3QaKHX-FnBT",
        "outputId": "7e0a971e-55fd-4fe7-8cbf-02749737703b"
      },
      "execution_count": null,
      "outputs": [
        {
          "output_type": "stream",
          "name": "stdout",
          "text": [
            "Você está em uma sala escura.\n",
            "Há uma porta  à sua direita e à sua esquerda.\n",
            "Qual você pega?\n",
            "Opções: 'esquerda', 'direita'.\n",
            "> direita\n",
            "Aqui você vê o grande mal, Cthulhu.\n",
            "Ele, isso, seja lá o que for, olha para você e você enlouquece.\n",
            "O que você faz?\n",
            "Opções: 'foge', 'cabeça'.\n",
            "> foge\n",
            "Você está em uma sala escura.\n",
            "Há uma porta  à sua direita e à sua esquerda.\n",
            "Qual você pega?\n",
            "Opções: 'esquerda', 'direita'.\n",
            "> direita\n",
            "Aqui você vê o grande mal, Cthulhu.\n",
            "Ele, isso, seja lá o que for, olha para você e você enlouquece.\n",
            "O que você faz?\n",
            "Opções: 'foge', 'cabeça'.\n",
            "> foge\n",
            "Você está em uma sala escura.\n",
            "Há uma porta  à sua direita e à sua esquerda.\n",
            "Qual você pega?\n",
            "Opções: 'esquerda', 'direita'.\n",
            "> esquerda\n",
            "Há um urso aqui.\n",
            "O urso tem um monte de mel.\n",
            "O urso gordo está na frente de outra porta.\n",
            "O que você faz?\n",
            "Opções: 'pegar mel', 'provocar urso'.\n",
            "> pegar mel\n",
            "O urso olha para você e arranca sua cara com uma patada. Bom trabalho!\n",
            "> \n",
            "Não entendi sua escolha. Tente novamente.\n"
          ]
        },
        {
          "output_type": "error",
          "ename": "KeyboardInterrupt",
          "evalue": "Interrupted by user",
          "traceback": [
            "\u001b[0;31m---------------------------------------------------------------------------\u001b[0m",
            "\u001b[0;31mKeyboardInterrupt\u001b[0m                         Traceback (most recent call last)",
            "\u001b[0;32m<ipython-input-5-cf5e89ad3109>\u001b[0m in \u001b[0;36m<cell line: 0>\u001b[0;34m()\u001b[0m\n\u001b[1;32m     79\u001b[0m \u001b[0;34m\u001b[0m\u001b[0m\n\u001b[1;32m     80\u001b[0m \u001b[0;34m\u001b[0m\u001b[0m\n\u001b[0;32m---> 81\u001b[0;31m \u001b[0mcomecar\u001b[0m\u001b[0;34m(\u001b[0m\u001b[0;34m)\u001b[0m\u001b[0;34m\u001b[0m\u001b[0;34m\u001b[0m\u001b[0m\n\u001b[0m",
            "\u001b[0;32m<ipython-input-5-cf5e89ad3109>\u001b[0m in \u001b[0;36mcomecar\u001b[0;34m()\u001b[0m\n\u001b[1;32m     74\u001b[0m     \u001b[0msala_do_urso\u001b[0m\u001b[0;34m(\u001b[0m\u001b[0;34m)\u001b[0m\u001b[0;34m\u001b[0m\u001b[0;34m\u001b[0m\u001b[0m\n\u001b[1;32m     75\u001b[0m   \u001b[0;32melif\u001b[0m \u001b[0mescolha\u001b[0m \u001b[0;34m==\u001b[0m \u001b[0;34m\"direita\"\u001b[0m\u001b[0;34m:\u001b[0m\u001b[0;34m\u001b[0m\u001b[0;34m\u001b[0m\u001b[0m\n\u001b[0;32m---> 76\u001b[0;31m     \u001b[0msala_de_cthulhu\u001b[0m\u001b[0;34m(\u001b[0m\u001b[0;34m)\u001b[0m\u001b[0;34m\u001b[0m\u001b[0;34m\u001b[0m\u001b[0m\n\u001b[0m\u001b[1;32m     77\u001b[0m   \u001b[0;32melse\u001b[0m\u001b[0;34m:\u001b[0m\u001b[0;34m\u001b[0m\u001b[0;34m\u001b[0m\u001b[0m\n\u001b[1;32m     78\u001b[0m     \u001b[0mmorrer\u001b[0m\u001b[0;34m(\u001b[0m\u001b[0;34m\"Você tropeça pela sala até morrer de fome.\"\u001b[0m\u001b[0;34m)\u001b[0m\u001b[0;34m\u001b[0m\u001b[0;34m\u001b[0m\u001b[0m\n",
            "\u001b[0;32m<ipython-input-5-cf5e89ad3109>\u001b[0m in \u001b[0;36msala_de_cthulhu\u001b[0;34m()\u001b[0m\n\u001b[1;32m     52\u001b[0m \u001b[0;34m\u001b[0m\u001b[0m\n\u001b[1;32m     53\u001b[0m   \u001b[0;32mif\u001b[0m \u001b[0;34m\"foge\"\u001b[0m \u001b[0;32min\u001b[0m \u001b[0mescolha\u001b[0m\u001b[0;34m:\u001b[0m\u001b[0;34m\u001b[0m\u001b[0;34m\u001b[0m\u001b[0m\n\u001b[0;32m---> 54\u001b[0;31m     \u001b[0mcomecar\u001b[0m\u001b[0;34m(\u001b[0m\u001b[0;34m)\u001b[0m\u001b[0;34m\u001b[0m\u001b[0;34m\u001b[0m\u001b[0m\n\u001b[0m\u001b[1;32m     55\u001b[0m   \u001b[0;32melif\u001b[0m \u001b[0;34m\"cabeça\"\u001b[0m \u001b[0;32min\u001b[0m \u001b[0mescolha\u001b[0m\u001b[0;34m:\u001b[0m\u001b[0;34m\u001b[0m\u001b[0;34m\u001b[0m\u001b[0m\n\u001b[1;32m     56\u001b[0m     \u001b[0mmorrer\u001b[0m\u001b[0;34m(\u001b[0m\u001b[0;34m\"Bem, isso foi gostoso!\"\u001b[0m\u001b[0;34m)\u001b[0m\u001b[0;34m\u001b[0m\u001b[0;34m\u001b[0m\u001b[0m\n",
            "\u001b[0;32m<ipython-input-5-cf5e89ad3109>\u001b[0m in \u001b[0;36mcomecar\u001b[0;34m()\u001b[0m\n\u001b[1;32m     74\u001b[0m     \u001b[0msala_do_urso\u001b[0m\u001b[0;34m(\u001b[0m\u001b[0;34m)\u001b[0m\u001b[0;34m\u001b[0m\u001b[0;34m\u001b[0m\u001b[0m\n\u001b[1;32m     75\u001b[0m   \u001b[0;32melif\u001b[0m \u001b[0mescolha\u001b[0m \u001b[0;34m==\u001b[0m \u001b[0;34m\"direita\"\u001b[0m\u001b[0;34m:\u001b[0m\u001b[0;34m\u001b[0m\u001b[0;34m\u001b[0m\u001b[0m\n\u001b[0;32m---> 76\u001b[0;31m     \u001b[0msala_de_cthulhu\u001b[0m\u001b[0;34m(\u001b[0m\u001b[0;34m)\u001b[0m\u001b[0;34m\u001b[0m\u001b[0;34m\u001b[0m\u001b[0m\n\u001b[0m\u001b[1;32m     77\u001b[0m   \u001b[0;32melse\u001b[0m\u001b[0;34m:\u001b[0m\u001b[0;34m\u001b[0m\u001b[0;34m\u001b[0m\u001b[0m\n\u001b[1;32m     78\u001b[0m     \u001b[0mmorrer\u001b[0m\u001b[0;34m(\u001b[0m\u001b[0;34m\"Você tropeça pela sala até morrer de fome.\"\u001b[0m\u001b[0;34m)\u001b[0m\u001b[0;34m\u001b[0m\u001b[0;34m\u001b[0m\u001b[0m\n",
            "\u001b[0;32m<ipython-input-5-cf5e89ad3109>\u001b[0m in \u001b[0;36msala_de_cthulhu\u001b[0;34m()\u001b[0m\n\u001b[1;32m     52\u001b[0m \u001b[0;34m\u001b[0m\u001b[0m\n\u001b[1;32m     53\u001b[0m   \u001b[0;32mif\u001b[0m \u001b[0;34m\"foge\"\u001b[0m \u001b[0;32min\u001b[0m \u001b[0mescolha\u001b[0m\u001b[0;34m:\u001b[0m\u001b[0;34m\u001b[0m\u001b[0;34m\u001b[0m\u001b[0m\n\u001b[0;32m---> 54\u001b[0;31m     \u001b[0mcomecar\u001b[0m\u001b[0;34m(\u001b[0m\u001b[0;34m)\u001b[0m\u001b[0;34m\u001b[0m\u001b[0;34m\u001b[0m\u001b[0m\n\u001b[0m\u001b[1;32m     55\u001b[0m   \u001b[0;32melif\u001b[0m \u001b[0;34m\"cabeça\"\u001b[0m \u001b[0;32min\u001b[0m \u001b[0mescolha\u001b[0m\u001b[0;34m:\u001b[0m\u001b[0;34m\u001b[0m\u001b[0;34m\u001b[0m\u001b[0m\n\u001b[1;32m     56\u001b[0m     \u001b[0mmorrer\u001b[0m\u001b[0;34m(\u001b[0m\u001b[0;34m\"Bem, isso foi gostoso!\"\u001b[0m\u001b[0;34m)\u001b[0m\u001b[0;34m\u001b[0m\u001b[0;34m\u001b[0m\u001b[0m\n",
            "\u001b[0;32m<ipython-input-5-cf5e89ad3109>\u001b[0m in \u001b[0;36mcomecar\u001b[0;34m()\u001b[0m\n\u001b[1;32m     72\u001b[0m \u001b[0;34m\u001b[0m\u001b[0m\n\u001b[1;32m     73\u001b[0m   \u001b[0;32mif\u001b[0m \u001b[0mescolha\u001b[0m \u001b[0;34m==\u001b[0m \u001b[0;34m\"esquerda\"\u001b[0m\u001b[0;34m:\u001b[0m\u001b[0;34m\u001b[0m\u001b[0;34m\u001b[0m\u001b[0m\n\u001b[0;32m---> 74\u001b[0;31m     \u001b[0msala_do_urso\u001b[0m\u001b[0;34m(\u001b[0m\u001b[0;34m)\u001b[0m\u001b[0;34m\u001b[0m\u001b[0;34m\u001b[0m\u001b[0m\n\u001b[0m\u001b[1;32m     75\u001b[0m   \u001b[0;32melif\u001b[0m \u001b[0mescolha\u001b[0m \u001b[0;34m==\u001b[0m \u001b[0;34m\"direita\"\u001b[0m\u001b[0;34m:\u001b[0m\u001b[0;34m\u001b[0m\u001b[0;34m\u001b[0m\u001b[0m\n\u001b[1;32m     76\u001b[0m     \u001b[0msala_de_cthulhu\u001b[0m\u001b[0;34m(\u001b[0m\u001b[0;34m)\u001b[0m\u001b[0;34m\u001b[0m\u001b[0;34m\u001b[0m\u001b[0m\n",
            "\u001b[0;32m<ipython-input-5-cf5e89ad3109>\u001b[0m in \u001b[0;36msala_do_urso\u001b[0;34m()\u001b[0m\n\u001b[1;32m     27\u001b[0m \u001b[0;34m\u001b[0m\u001b[0m\n\u001b[1;32m     28\u001b[0m   \u001b[0;32mwhile\u001b[0m \u001b[0;32mTrue\u001b[0m\u001b[0;34m:\u001b[0m\u001b[0;34m\u001b[0m\u001b[0;34m\u001b[0m\u001b[0m\n\u001b[0;32m---> 29\u001b[0;31m     \u001b[0mescolha\u001b[0m \u001b[0;34m=\u001b[0m \u001b[0minput\u001b[0m\u001b[0;34m(\u001b[0m\u001b[0;34m\"> \"\u001b[0m\u001b[0;34m)\u001b[0m\u001b[0;34m\u001b[0m\u001b[0;34m\u001b[0m\u001b[0m\n\u001b[0m\u001b[1;32m     30\u001b[0m \u001b[0;34m\u001b[0m\u001b[0m\n\u001b[1;32m     31\u001b[0m     \u001b[0;32mif\u001b[0m \u001b[0mescolha\u001b[0m \u001b[0;34m==\u001b[0m \u001b[0;34m\"pegar mel\"\u001b[0m\u001b[0;34m:\u001b[0m\u001b[0;34m\u001b[0m\u001b[0;34m\u001b[0m\u001b[0m\n",
            "\u001b[0;32m/usr/local/lib/python3.11/dist-packages/ipykernel/kernelbase.py\u001b[0m in \u001b[0;36mraw_input\u001b[0;34m(self, prompt)\u001b[0m\n\u001b[1;32m   1175\u001b[0m                 \u001b[0;34m\"raw_input was called, but this frontend does not support input requests.\"\u001b[0m\u001b[0;34m\u001b[0m\u001b[0;34m\u001b[0m\u001b[0m\n\u001b[1;32m   1176\u001b[0m             )\n\u001b[0;32m-> 1177\u001b[0;31m         return self._input_request(\n\u001b[0m\u001b[1;32m   1178\u001b[0m             \u001b[0mstr\u001b[0m\u001b[0;34m(\u001b[0m\u001b[0mprompt\u001b[0m\u001b[0;34m)\u001b[0m\u001b[0;34m,\u001b[0m\u001b[0;34m\u001b[0m\u001b[0;34m\u001b[0m\u001b[0m\n\u001b[1;32m   1179\u001b[0m             \u001b[0mself\u001b[0m\u001b[0;34m.\u001b[0m\u001b[0m_parent_ident\u001b[0m\u001b[0;34m[\u001b[0m\u001b[0;34m\"shell\"\u001b[0m\u001b[0;34m]\u001b[0m\u001b[0;34m,\u001b[0m\u001b[0;34m\u001b[0m\u001b[0;34m\u001b[0m\u001b[0m\n",
            "\u001b[0;32m/usr/local/lib/python3.11/dist-packages/ipykernel/kernelbase.py\u001b[0m in \u001b[0;36m_input_request\u001b[0;34m(self, prompt, ident, parent, password)\u001b[0m\n\u001b[1;32m   1217\u001b[0m             \u001b[0;32mexcept\u001b[0m \u001b[0mKeyboardInterrupt\u001b[0m\u001b[0;34m:\u001b[0m\u001b[0;34m\u001b[0m\u001b[0;34m\u001b[0m\u001b[0m\n\u001b[1;32m   1218\u001b[0m                 \u001b[0;31m# re-raise KeyboardInterrupt, to truncate traceback\u001b[0m\u001b[0;34m\u001b[0m\u001b[0;34m\u001b[0m\u001b[0m\n\u001b[0;32m-> 1219\u001b[0;31m                 \u001b[0;32mraise\u001b[0m \u001b[0mKeyboardInterrupt\u001b[0m\u001b[0;34m(\u001b[0m\u001b[0;34m\"Interrupted by user\"\u001b[0m\u001b[0;34m)\u001b[0m \u001b[0;32mfrom\u001b[0m \u001b[0;32mNone\u001b[0m\u001b[0;34m\u001b[0m\u001b[0;34m\u001b[0m\u001b[0m\n\u001b[0m\u001b[1;32m   1220\u001b[0m             \u001b[0;32mexcept\u001b[0m \u001b[0mException\u001b[0m\u001b[0;34m:\u001b[0m\u001b[0;34m\u001b[0m\u001b[0;34m\u001b[0m\u001b[0m\n\u001b[1;32m   1221\u001b[0m                 \u001b[0mself\u001b[0m\u001b[0;34m.\u001b[0m\u001b[0mlog\u001b[0m\u001b[0;34m.\u001b[0m\u001b[0mwarning\u001b[0m\u001b[0;34m(\u001b[0m\u001b[0;34m\"Invalid Message:\"\u001b[0m\u001b[0;34m,\u001b[0m \u001b[0mexc_info\u001b[0m\u001b[0;34m=\u001b[0m\u001b[0;32mTrue\u001b[0m\u001b[0;34m)\u001b[0m\u001b[0;34m\u001b[0m\u001b[0;34m\u001b[0m\u001b[0m\n",
            "\u001b[0;31mKeyboardInterrupt\u001b[0m: Interrupted by user"
          ]
        }
      ]
    }
  ]
}